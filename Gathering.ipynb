{
 "cells": [
  {
   "cell_type": "markdown",
   "metadata": {},
   "source": [
    "# Assessing Portuguese Wine Quality\n",
    "\n",
    "The below provides an assessment of two datasets related to red and white vinho verde wine samples from the north of Portugal. The goal is to model wine quality based on physicochemical tests\n",
    "\n",
    "source: https://archive.ics.uci.edu/ml/datasets/Wine+Quality"
   ]
  },
  {
   "cell_type": "markdown",
   "metadata": {},
   "source": [
    "#### First, import the red wine data and assess it."
   ]
  },
  {
   "cell_type": "code",
   "execution_count": 85,
   "metadata": {},
   "outputs": [
    {
     "name": "stdout",
     "output_type": "stream",
     "text": [
      "<class 'pandas.core.frame.DataFrame'>\n",
      "RangeIndex: 1599 entries, 0 to 1598\n",
      "Data columns (total 12 columns):\n",
      "fixed acidity           1599 non-null float64\n",
      "volatile acidity        1599 non-null float64\n",
      "citric acid             1599 non-null float64\n",
      "residual sugar          1599 non-null float64\n",
      "chlorides               1599 non-null float64\n",
      "free sulfur dioxide     1599 non-null float64\n",
      "total sulfur dioxide    1599 non-null float64\n",
      "density                 1599 non-null float64\n",
      "pH                      1599 non-null float64\n",
      "sulphates               1599 non-null float64\n",
      "alcohol                 1599 non-null float64\n",
      "quality                 1599 non-null int64\n",
      "dtypes: float64(11), int64(1)\n",
      "memory usage: 150.0 KB\n"
     ]
    }
   ],
   "source": [
    "import pandas as pd\n",
    "import numpy as np\n",
    "import matplotlib.pyplot as plt\n",
    "#import seaborn as sns\n",
    "%matplotlib inline\n",
    "\n",
    "\n",
    "url_redwine = \"https://archive.ics.uci.edu/ml/machine-learning-databases/wine-quality/winequality-red.csv\"\n",
    "df_red = pd.read_csv(url_redwine, sep=\";\")\n",
    "df_red.info()"
   ]
  },
  {
   "cell_type": "code",
   "execution_count": 44,
   "metadata": {},
   "outputs": [
    {
     "name": "stdout",
     "output_type": "stream",
     "text": [
      "Number of Red Samples: 1599\n",
      "Number of Columns/Features (Red): 12\n",
      "Red wine duplicates: 240\n",
      "Red wine unique Quality values: 6\n",
      "Mean density in the red wine: 0.9967466791744833\n"
     ]
    }
   ],
   "source": [
    "print(\n",
    "    \"Number of Red Samples: {}\".format(df_red.shape[0]),\n",
    "\n",
    "    \"Number of Columns/Features (Red): {}\".format(df_red.shape[1]),\n",
    "\n",
    "    \"Red wine duplicates: {}\".format(sum(df_red.duplicated())),\n",
    "    \n",
    "    \"Red wine unique Quality values: {}\".format(df_red['quality'].nunique()),\n",
    "    \n",
    "    \"Mean density in the red wine: {}\".format(df_red['density'].mean()), \n",
    "    \n",
    "    sep='\\n')"
   ]
  },
  {
   "cell_type": "markdown",
   "metadata": {},
   "source": [
    "#### Repeat the previous assessment for the white wine dataset"
   ]
  },
  {
   "cell_type": "code",
   "execution_count": 45,
   "metadata": {},
   "outputs": [
    {
     "name": "stdout",
     "output_type": "stream",
     "text": [
      "<class 'pandas.core.frame.DataFrame'>\n",
      "RangeIndex: 4898 entries, 0 to 4897\n",
      "Data columns (total 12 columns):\n",
      "fixed acidity           4898 non-null float64\n",
      "volatile acidity        4898 non-null float64\n",
      "citric acid             4898 non-null float64\n",
      "residual sugar          4898 non-null float64\n",
      "chlorides               4898 non-null float64\n",
      "free sulfur dioxide     4898 non-null float64\n",
      "total sulfur dioxide    4898 non-null float64\n",
      "density                 4898 non-null float64\n",
      "pH                      4898 non-null float64\n",
      "sulphates               4898 non-null float64\n",
      "alcohol                 4898 non-null float64\n",
      "quality                 4898 non-null int64\n",
      "dtypes: float64(11), int64(1)\n",
      "memory usage: 459.3 KB\n"
     ]
    }
   ],
   "source": [
    "url_whitewine = \"https://archive.ics.uci.edu/ml/machine-learning-databases/wine-quality/winequality-white.csv\"\n",
    "df_white = pd.read_csv(url_whitewine, sep=\";\")\n",
    "df_white.info()"
   ]
  },
  {
   "cell_type": "code",
   "execution_count": 46,
   "metadata": {},
   "outputs": [
    {
     "name": "stdout",
     "output_type": "stream",
     "text": [
      "Number of White Samples: 4898\n",
      "Number of Columns/Features (White): 12\n",
      "White wine duplicates: 937\n",
      "White wine unique Quality values: 7\n",
      "Mean density in the white wine: 0.9940273764801896\n"
     ]
    }
   ],
   "source": [
    "print(\n",
    "    \"Number of White Samples: {}\".format(df_white.shape[0]),\n",
    "    \n",
    "    \"Number of Columns/Features (White): {}\".format(df_white.shape[1]),\n",
    "    \n",
    "    \"White wine duplicates: {}\".format(sum(df_white.duplicated())),\n",
    "    \n",
    "    \"White wine unique Quality values: {}\".format(df_white['quality'].nunique()),\n",
    "    \n",
    "    \"Mean density in the white wine: {}\".format(df_white['density'].mean()), \n",
    "\n",
    "    sep='\\n')"
   ]
  },
  {
   "cell_type": "markdown",
   "metadata": {},
   "source": [
    "#### Merge the two datasets together"
   ]
  },
  {
   "cell_type": "code",
   "execution_count": 74,
   "metadata": {},
   "outputs": [
    {
     "data": {
      "text/html": [
       "<div>\n",
       "<style scoped>\n",
       "    .dataframe tbody tr th:only-of-type {\n",
       "        vertical-align: middle;\n",
       "    }\n",
       "\n",
       "    .dataframe tbody tr th {\n",
       "        vertical-align: top;\n",
       "    }\n",
       "\n",
       "    .dataframe thead th {\n",
       "        text-align: right;\n",
       "    }\n",
       "</style>\n",
       "<table border=\"1\" class=\"dataframe\">\n",
       "  <thead>\n",
       "    <tr style=\"text-align: right;\">\n",
       "      <th></th>\n",
       "      <th>fixed acidity</th>\n",
       "      <th>volatile acidity</th>\n",
       "      <th>citric acid</th>\n",
       "      <th>residual sugar</th>\n",
       "      <th>chlorides</th>\n",
       "      <th>free sulfur dioxide</th>\n",
       "      <th>total sulfur dioxide</th>\n",
       "      <th>density</th>\n",
       "      <th>pH</th>\n",
       "      <th>sulphates</th>\n",
       "      <th>alcohol</th>\n",
       "      <th>quality</th>\n",
       "      <th>color</th>\n",
       "    </tr>\n",
       "  </thead>\n",
       "  <tbody>\n",
       "    <tr>\n",
       "      <th>0</th>\n",
       "      <td>7.4</td>\n",
       "      <td>0.70</td>\n",
       "      <td>0.00</td>\n",
       "      <td>1.9</td>\n",
       "      <td>0.076</td>\n",
       "      <td>11.0</td>\n",
       "      <td>34.0</td>\n",
       "      <td>0.9978</td>\n",
       "      <td>3.51</td>\n",
       "      <td>0.56</td>\n",
       "      <td>9.4</td>\n",
       "      <td>5</td>\n",
       "      <td>Red</td>\n",
       "    </tr>\n",
       "    <tr>\n",
       "      <th>1</th>\n",
       "      <td>7.8</td>\n",
       "      <td>0.88</td>\n",
       "      <td>0.00</td>\n",
       "      <td>2.6</td>\n",
       "      <td>0.098</td>\n",
       "      <td>25.0</td>\n",
       "      <td>67.0</td>\n",
       "      <td>0.9968</td>\n",
       "      <td>3.20</td>\n",
       "      <td>0.68</td>\n",
       "      <td>9.8</td>\n",
       "      <td>5</td>\n",
       "      <td>Red</td>\n",
       "    </tr>\n",
       "    <tr>\n",
       "      <th>2</th>\n",
       "      <td>7.8</td>\n",
       "      <td>0.76</td>\n",
       "      <td>0.04</td>\n",
       "      <td>2.3</td>\n",
       "      <td>0.092</td>\n",
       "      <td>15.0</td>\n",
       "      <td>54.0</td>\n",
       "      <td>0.9970</td>\n",
       "      <td>3.26</td>\n",
       "      <td>0.65</td>\n",
       "      <td>9.8</td>\n",
       "      <td>5</td>\n",
       "      <td>Red</td>\n",
       "    </tr>\n",
       "    <tr>\n",
       "      <th>3</th>\n",
       "      <td>11.2</td>\n",
       "      <td>0.28</td>\n",
       "      <td>0.56</td>\n",
       "      <td>1.9</td>\n",
       "      <td>0.075</td>\n",
       "      <td>17.0</td>\n",
       "      <td>60.0</td>\n",
       "      <td>0.9980</td>\n",
       "      <td>3.16</td>\n",
       "      <td>0.58</td>\n",
       "      <td>9.8</td>\n",
       "      <td>6</td>\n",
       "      <td>Red</td>\n",
       "    </tr>\n",
       "    <tr>\n",
       "      <th>4</th>\n",
       "      <td>7.4</td>\n",
       "      <td>0.70</td>\n",
       "      <td>0.00</td>\n",
       "      <td>1.9</td>\n",
       "      <td>0.076</td>\n",
       "      <td>11.0</td>\n",
       "      <td>34.0</td>\n",
       "      <td>0.9978</td>\n",
       "      <td>3.51</td>\n",
       "      <td>0.56</td>\n",
       "      <td>9.4</td>\n",
       "      <td>5</td>\n",
       "      <td>Red</td>\n",
       "    </tr>\n",
       "  </tbody>\n",
       "</table>\n",
       "</div>"
      ],
      "text/plain": [
       "   fixed acidity  volatile acidity  citric acid  residual sugar  chlorides  \\\n",
       "0            7.4              0.70         0.00             1.9      0.076   \n",
       "1            7.8              0.88         0.00             2.6      0.098   \n",
       "2            7.8              0.76         0.04             2.3      0.092   \n",
       "3           11.2              0.28         0.56             1.9      0.075   \n",
       "4            7.4              0.70         0.00             1.9      0.076   \n",
       "\n",
       "   free sulfur dioxide  total sulfur dioxide  density    pH  sulphates  \\\n",
       "0                 11.0                  34.0   0.9978  3.51       0.56   \n",
       "1                 25.0                  67.0   0.9968  3.20       0.68   \n",
       "2                 15.0                  54.0   0.9970  3.26       0.65   \n",
       "3                 17.0                  60.0   0.9980  3.16       0.58   \n",
       "4                 11.0                  34.0   0.9978  3.51       0.56   \n",
       "\n",
       "   alcohol  quality color  \n",
       "0      9.4        5   Red  \n",
       "1      9.8        5   Red  \n",
       "2      9.8        5   Red  \n",
       "3      9.8        6   Red  \n",
       "4      9.4        5   Red  "
      ]
     },
     "execution_count": 74,
     "metadata": {},
     "output_type": "execute_result"
    }
   ],
   "source": [
    "# create color array for red dataframe and add to df_red\n",
    "color_red = np.repeat('Red',df_red.shape[0])\n",
    "df_red['color'] = color_red\n",
    "\n",
    "# create color array for white dataframe and add to df_white\n",
    "color_white = np.repeat('White',df_white.shape[0])\n",
    "df_white['color'] = color_white\n",
    "\n",
    "wine_df = df_red.append(df_white, ignore_index=True)\n",
    "wine_df.head()"
   ]
  },
  {
   "cell_type": "markdown",
   "metadata": {},
   "source": [
    "### Histograms for Various Features"
   ]
  },
  {
   "cell_type": "code",
   "execution_count": 75,
   "metadata": {},
   "outputs": [
    {
     "name": "stdout",
     "output_type": "stream",
     "text": [
      "Mean: 7.215307064799134\n",
      "Median: 7.0\n",
      "Skew: 1.7232896467669239\n",
      "Std Dev: 1.296433757799792\n"
     ]
    },
    {
     "data": {
      "image/png": "[encoded data removed]",
      "text/plain": [
       "<Figure size 432x288 with 1 Axes>"
      ]
     },
     "metadata": {
      "needs_background": "light"
     },
     "output_type": "display_data"
    }
   ],
   "source": [
    "#Fixed Acidity\n",
    "wine_df['fixed acidity'].plot(kind=\"hist\");\n",
    "print(\n",
    "    \"Mean: {}\".format(wine_df['fixed acidity'].mean()),\n",
    "    \n",
    "    \"Median: {}\".format(wine_df['fixed acidity'].median()),\n",
    "    \n",
    "    \"Skew: {}\".format(wine_df['fixed acidity'].skew()),\n",
    "    \n",
    "    \"Std Dev: {}\".format(wine_df['fixed acidity'].std()),\n",
    "    \n",
    "    sep='\\n')"
   ]
  },
  {
   "cell_type": "code",
   "execution_count": 76,
   "metadata": {},
   "outputs": [
    {
     "name": "stdout",
     "output_type": "stream",
     "text": [
      "Mean: 115.7445744189626\n",
      "Median: 118.0\n",
      "Skew: -0.0011774782344379131\n",
      "Std Dev: 56.521854522630264\n"
     ]
    },
    {
     "data": {
      "image/png": "[encoded data removed]",
      "text/plain": [
       "<Figure size 432x288 with 1 Axes>"
      ]
     },
     "metadata": {
      "needs_background": "light"
     },
     "output_type": "display_data"
    }
   ],
   "source": [
    "#Total Sulfur Dioxide\n",
    "wine_df['total sulfur dioxide'].plot(kind='hist');\n",
    "print(\n",
    "    \"Mean: {}\".format(wine_df['total sulfur dioxide'].mean()),\n",
    "    \n",
    "    \"Median: {}\".format(wine_df['total sulfur dioxide'].median()),\n",
    "    \n",
    "    \"Skew: {}\".format(wine_df['total sulfur dioxide'].skew()),\n",
    "    \n",
    "    \"Std Dev: {}\".format(wine_df['total sulfur dioxide'].std()),\n",
    "    \n",
    "    sep='\\n')"
   ]
  },
  {
   "cell_type": "code",
   "execution_count": 77,
   "metadata": {},
   "outputs": [
    {
     "name": "stdout",
     "output_type": "stream",
     "text": [
      "Mean: 3.2185008465445644\n",
      "Median: 3.21\n",
      "Skew: 0.38683879806082694\n",
      "Std Dev: 0.1607872021039883\n"
     ]
    },
    {
     "data": {
      "image/png": "[encoded data removed]",
      "text/plain": [
       "<Figure size 432x288 with 1 Axes>"
      ]
     },
     "metadata": {
      "needs_background": "light"
     },
     "output_type": "display_data"
    }
   ],
   "source": [
    "#pH\n",
    "wine_df.pH.plot(kind='hist');\n",
    "print(\n",
    "    \"Mean: {}\".format(wine_df.pH.mean()),\n",
    "    \n",
    "    \"Median: {}\".format(wine_df.pH.median()),\n",
    "    \n",
    "    \"Skew: {}\".format(wine_df.pH.skew()),\n",
    "    \n",
    "    \"Std Dev: {}\".format(wine_df.pH.std()),\n",
    "    \n",
    "    sep='\\n')"
   ]
  },
  {
   "cell_type": "code",
   "execution_count": 78,
   "metadata": {},
   "outputs": [
    {
     "name": "stdout",
     "output_type": "stream",
     "text": [
      "Mean: 10.491800831152855\n",
      "Median: 10.3\n",
      "Skew: 0.565717729098518\n",
      "Std Dev: 1.192711748870997\n"
     ]
    },
    {
     "data": {
      "image/png": "[encoded data removed]",
      "text/plain": [
       "<Figure size 432x288 with 1 Axes>"
      ]
     },
     "metadata": {
      "needs_background": "light"
     },
     "output_type": "display_data"
    }
   ],
   "source": [
    "#Alcohol\n",
    "wine_df.alcohol.plot(kind='hist');\n",
    "print(\n",
    "    \"Mean: {}\".format(wine_df.alcohol.mean()),\n",
    "    \n",
    "    \"Median: {}\".format(wine_df.alcohol.median()),\n",
    "    \n",
    "    \"Skew: {}\".format(wine_df.alcohol.skew()),\n",
    "    \n",
    "    \"Std Dev: {}\".format(wine_df.alcohol.std()),\n",
    "    \n",
    "    sep='\\n')"
   ]
  },
  {
   "cell_type": "markdown",
   "metadata": {},
   "source": [
    "It appears that the Fixed Acidity and Alcohol are skewed right since the mean is greater than the median, while Total Sulfur Dioxide is skewed left. pH is the closest to a normal distribution. "
   ]
  },
  {
   "cell_type": "markdown",
   "metadata": {},
   "source": [
    "### Scatterplots of Quality Against Various Features"
   ]
  },
  {
   "cell_type": "code",
   "execution_count": 79,
   "metadata": {},
   "outputs": [
    {
     "name": "stdout",
     "output_type": "stream",
     "text": [
      "Pearson correlation coefficient\n"
     ]
    },
    {
     "data": {
      "text/html": [
       "<div>\n",
       "<style scoped>\n",
       "    .dataframe tbody tr th:only-of-type {\n",
       "        vertical-align: middle;\n",
       "    }\n",
       "\n",
       "    .dataframe tbody tr th {\n",
       "        vertical-align: top;\n",
       "    }\n",
       "\n",
       "    .dataframe thead th {\n",
       "        text-align: right;\n",
       "    }\n",
       "</style>\n",
       "<table border=\"1\" class=\"dataframe\">\n",
       "  <thead>\n",
       "    <tr style=\"text-align: right;\">\n",
       "      <th></th>\n",
       "      <th>volatile acidity</th>\n",
       "      <th>quality</th>\n",
       "    </tr>\n",
       "  </thead>\n",
       "  <tbody>\n",
       "    <tr>\n",
       "      <th>volatile acidity</th>\n",
       "      <td>1.000000</td>\n",
       "      <td>-0.265699</td>\n",
       "    </tr>\n",
       "    <tr>\n",
       "      <th>quality</th>\n",
       "      <td>-0.265699</td>\n",
       "      <td>1.000000</td>\n",
       "    </tr>\n",
       "  </tbody>\n",
       "</table>\n",
       "</div>"
      ],
      "text/plain": [
       "                  volatile acidity   quality\n",
       "volatile acidity          1.000000 -0.265699\n",
       "quality                  -0.265699  1.000000"
      ]
     },
     "execution_count": 79,
     "metadata": {},
     "output_type": "execute_result"
    },
    {
     "data": {
      "image/png": "[encoded data removed]",
      "text/plain": [
       "<Figure size 432x288 with 1 Axes>"
      ]
     },
     "metadata": {
      "needs_background": "light"
     },
     "output_type": "display_data"
    }
   ],
   "source": [
    "#Volatile Acidity\n",
    "wine_df.plot(x='volatile acidity', y='quality',kind='scatter');\n",
    "print(\"Pearson correlation coefficient\")\n",
    "wine_df.loc[:,[\"volatile acidity\",\"quality\"]].corr(method='pearson')"
   ]
  },
  {
   "cell_type": "code",
   "execution_count": 80,
   "metadata": {},
   "outputs": [
    {
     "name": "stdout",
     "output_type": "stream",
     "text": [
      "Pearson correlation coefficient\n"
     ]
    },
    {
     "data": {
      "text/html": [
       "<div>\n",
       "<style scoped>\n",
       "    .dataframe tbody tr th:only-of-type {\n",
       "        vertical-align: middle;\n",
       "    }\n",
       "\n",
       "    .dataframe tbody tr th {\n",
       "        vertical-align: top;\n",
       "    }\n",
       "\n",
       "    .dataframe thead th {\n",
       "        text-align: right;\n",
       "    }\n",
       "</style>\n",
       "<table border=\"1\" class=\"dataframe\">\n",
       "  <thead>\n",
       "    <tr style=\"text-align: right;\">\n",
       "      <th></th>\n",
       "      <th>residual sugar</th>\n",
       "      <th>quality</th>\n",
       "    </tr>\n",
       "  </thead>\n",
       "  <tbody>\n",
       "    <tr>\n",
       "      <th>residual sugar</th>\n",
       "      <td>1.00000</td>\n",
       "      <td>-0.03698</td>\n",
       "    </tr>\n",
       "    <tr>\n",
       "      <th>quality</th>\n",
       "      <td>-0.03698</td>\n",
       "      <td>1.00000</td>\n",
       "    </tr>\n",
       "  </tbody>\n",
       "</table>\n",
       "</div>"
      ],
      "text/plain": [
       "                residual sugar  quality\n",
       "residual sugar         1.00000 -0.03698\n",
       "quality               -0.03698  1.00000"
      ]
     },
     "execution_count": 80,
     "metadata": {},
     "output_type": "execute_result"
    },
    {
     "data": {
      "image/png": "[encoded data removed]",
      "text/plain": [
       "<Figure size 432x288 with 1 Axes>"
      ]
     },
     "metadata": {
      "needs_background": "light"
     },
     "output_type": "display_data"
    }
   ],
   "source": [
    "#Residual Sugar\n",
    "wine_df.plot(x=\"residual sugar\",y=\"quality\",kind=\"scatter\");\n",
    "print(\"Pearson correlation coefficient\")\n",
    "wine_df.loc[:,[\"residual sugar\",\"quality\"]].corr(method='pearson')"
   ]
  },
  {
   "cell_type": "code",
   "execution_count": 81,
   "metadata": {},
   "outputs": [
    {
     "name": "stdout",
     "output_type": "stream",
     "text": [
      "Pearson correlation coefficient\n"
     ]
    },
    {
     "data": {
      "text/html": [
       "<div>\n",
       "<style scoped>\n",
       "    .dataframe tbody tr th:only-of-type {\n",
       "        vertical-align: middle;\n",
       "    }\n",
       "\n",
       "    .dataframe tbody tr th {\n",
       "        vertical-align: top;\n",
       "    }\n",
       "\n",
       "    .dataframe thead th {\n",
       "        text-align: right;\n",
       "    }\n",
       "</style>\n",
       "<table border=\"1\" class=\"dataframe\">\n",
       "  <thead>\n",
       "    <tr style=\"text-align: right;\">\n",
       "      <th></th>\n",
       "      <th>pH</th>\n",
       "      <th>quality</th>\n",
       "    </tr>\n",
       "  </thead>\n",
       "  <tbody>\n",
       "    <tr>\n",
       "      <th>pH</th>\n",
       "      <td>1.000000</td>\n",
       "      <td>0.019506</td>\n",
       "    </tr>\n",
       "    <tr>\n",
       "      <th>quality</th>\n",
       "      <td>0.019506</td>\n",
       "      <td>1.000000</td>\n",
       "    </tr>\n",
       "  </tbody>\n",
       "</table>\n",
       "</div>"
      ],
      "text/plain": [
       "               pH   quality\n",
       "pH       1.000000  0.019506\n",
       "quality  0.019506  1.000000"
      ]
     },
     "execution_count": 81,
     "metadata": {},
     "output_type": "execute_result"
    },
    {
     "data": {
      "image/png": "[encoded data removed]",
      "text/plain": [
       "<Figure size 432x288 with 1 Axes>"
      ]
     },
     "metadata": {
      "needs_background": "light"
     },
     "output_type": "display_data"
    }
   ],
   "source": [
    "#pH\n",
    "wine_df.plot(x=\"pH\",y=\"quality\",kind=\"scatter\");\n",
    "print(\"Pearson correlation coefficient\")\n",
    "wine_df.loc[:,[\"pH\",\"quality\"]].corr(method='pearson')"
   ]
  },
  {
   "cell_type": "code",
   "execution_count": 82,
   "metadata": {},
   "outputs": [
    {
     "name": "stdout",
     "output_type": "stream",
     "text": [
      "Pearson correlation coefficient\n"
     ]
    },
    {
     "data": {
      "text/html": [
       "<div>\n",
       "<style scoped>\n",
       "    .dataframe tbody tr th:only-of-type {\n",
       "        vertical-align: middle;\n",
       "    }\n",
       "\n",
       "    .dataframe tbody tr th {\n",
       "        vertical-align: top;\n",
       "    }\n",
       "\n",
       "    .dataframe thead th {\n",
       "        text-align: right;\n",
       "    }\n",
       "</style>\n",
       "<table border=\"1\" class=\"dataframe\">\n",
       "  <thead>\n",
       "    <tr style=\"text-align: right;\">\n",
       "      <th></th>\n",
       "      <th>alcohol</th>\n",
       "      <th>quality</th>\n",
       "    </tr>\n",
       "  </thead>\n",
       "  <tbody>\n",
       "    <tr>\n",
       "      <th>alcohol</th>\n",
       "      <td>1.000000</td>\n",
       "      <td>0.444319</td>\n",
       "    </tr>\n",
       "    <tr>\n",
       "      <th>quality</th>\n",
       "      <td>0.444319</td>\n",
       "      <td>1.000000</td>\n",
       "    </tr>\n",
       "  </tbody>\n",
       "</table>\n",
       "</div>"
      ],
      "text/plain": [
       "          alcohol   quality\n",
       "alcohol  1.000000  0.444319\n",
       "quality  0.444319  1.000000"
      ]
     },
     "execution_count": 82,
     "metadata": {},
     "output_type": "execute_result"
    },
    {
     "data": {
      "image/png": "[encoded data removed]",
      "text/plain": [
       "<Figure size 432x288 with 1 Axes>"
      ]
     },
     "metadata": {
      "needs_background": "light"
     },
     "output_type": "display_data"
    }
   ],
   "source": [
    "#Alcohol\n",
    "wine_df.plot(x=\"alcohol\",y=\"quality\",kind=\"scatter\");\n",
    "print(\"Pearson correlation coefficient\")\n",
    "wine_df.loc[:,[\"alcohol\",\"quality\"]].corr(method='pearson')"
   ]
  },
  {
   "cell_type": "markdown",
   "metadata": {},
   "source": [
    "Alcohol appears to have the highest correlation with quality, with a correlation coefficient of 0.44. ph is only slightly positively correlated with quality. Volatile acidity appears to be negatively associated with quality. Residual sugar is only slightly negative in correlation with quality."
   ]
  },
  {
   "cell_type": "markdown",
   "metadata": {},
   "source": [
    "### Is a certain type of wine (red or white) associate with higher quality?"
   ]
  },
  {
   "cell_type": "code",
   "execution_count": 86,
   "metadata": {},
   "outputs": [
    {
     "data": {
      "image/png": "[encoded data removed]",
      "text/plain": [
       "<Figure size 432x288 with 1 Axes>"
      ]
     },
     "metadata": {
      "needs_background": "light"
     },
     "output_type": "display_data"
    }
   ],
   "source": [
    "colors = ['red','orange']\n",
    "color_means = wine_df.groupby('color')['quality'].mean()\n",
    "\n",
    "color_means.plot(kind='bar',title='Average Wine Quality by Color',color=colors,alpha=.7);\n",
    "plt.xlabel('Colors',fontsize=14);\n",
    "plt.ylabel('Quality',fontsize=14);\n"
   ]
  },
  {
   "cell_type": "markdown",
   "metadata": {},
   "source": [
    "It appears that the average quality of the white wines is higher than that of thre red wines."
   ]
  },
  {
   "cell_type": "code",
   "execution_count": 87,
   "metadata": {},
   "outputs": [
    {
     "data": {
      "image/png": "[encoded data removed]",
      "text/plain": [
       "<Figure size 432x288 with 1 Axes>"
      ]
     },
     "metadata": {
      "needs_background": "light"
     },
     "output_type": "display_data"
    }
   ],
   "source": [
    "counts = wine_df.groupby(['quality', 'color']).count()['pH']\n",
    "#counts.plot(kind='bar', title='Counts by Wine Color and Quality', color=colors, alpha=.7);\n",
    "#plt.xlabel('Quality and Color', fontsize=14);\n",
    "#plt.ylabel('Count', fontsize=14);\n",
    "totals = wine_df.groupby('color').count()['pH']\n",
    "proportions = counts / totals\n",
    "\n",
    "proportions.plot(kind='bar', title='Counts by Wine Color and Quality', color=colors, alpha=.7);\n",
    "plt.xlabel('Quality and Color', fontsize=14);\n",
    "plt.ylabel('Count', fontsize=14);"
   ]
  },
  {
   "cell_type": "markdown",
   "metadata": {},
   "source": [
    "### What level of acidity (pH value) receives the highest average rating?"
   ]
  },
  {
   "cell_type": "code",
   "execution_count": 99,
   "metadata": {},
   "outputs": [],
   "source": [
    "# Bin edges that will be used to \"cut\" the data into groups\n",
    "quart = wine_df['pH'].quantile(.25)\n",
    "half = wine_df['pH'].quantile(.5)\n",
    "threequart = wine_df['pH'].quantile(.75)\n",
    "bin_edges = [wine_df['pH'].min(),quart,half,threequart,wine_df['pH'].max()]"
   ]
  },
  {
   "cell_type": "code",
   "execution_count": 100,
   "metadata": {},
   "outputs": [],
   "source": [
    "# Labels for the four acidity level groups\n",
    "bin_names = ['High','Moderately High','Medium','Low' ]"
   ]
  },
  {
   "cell_type": "code",
   "execution_count": 101,
   "metadata": {},
   "outputs": [],
   "source": [
    "# Creates acidity_levels column\n",
    "wine_df['acidity levels'] = pd.cut(wine_df['pH'], bin_edges, labels=bin_names)"
   ]
  },
  {
   "cell_type": "code",
   "execution_count": 119,
   "metadata": {},
   "outputs": [
    {
     "name": "stdout",
     "output_type": "stream",
     "text": [
      "Mean quality\n",
      "acidity levels\n",
      "High               5.783343\n",
      "Moderately High    5.784540\n",
      "Medium             5.850832\n",
      "Low                5.859593\n",
      "Name: quality, dtype: float64\n"
     ]
    },
    {
     "data": {
      "image/png": "[encoded data removed]",
      "text/plain": [
       "<Figure size 432x288 with 1 Axes>"
      ]
     },
     "metadata": {
      "needs_background": "light"
     },
     "output_type": "display_data"
    }
   ],
   "source": [
    "acid_mean = wine_df.groupby('acidity levels')['quality'].mean()\n",
    "\n",
    "high_mean = acid_mean['High']\n",
    "modhigh_mean = acid_mean['Moderately High']\n",
    "med_mean = acid_mean['Medium']\n",
    "low_mean = acid_mean['Low']\n",
    "\n",
    "locations = [1,2,3,4]\n",
    "heights = [high_mean, modhigh_mean, med_mean, low_mean]\n",
    "labels = [\"High\", \"Moderately High\", \"Medium\", \"Low\"]\n",
    "#plt.bar(locations, heights, tick_label=labels)\n",
    "plt.plot(labels,heights,'-^')\n",
    "plt.title('Average Quality by Acidity Levels')\n",
    "plt.xlabel('Acidity Levels')\n",
    "plt.ylabel('Average Quality Rating');\n",
    "\n",
    "print(\n",
    "    \"Mean quality\",\n",
    "    \n",
    "    acid_mean,\n",
    "    \n",
    "    sep='\\n')"
   ]
  },
  {
   "cell_type": "markdown",
   "metadata": {},
   "source": [
    "On average, the lower the acidity level, the higher the quality rating. However, the average quality of low and medium acidic wines are almost identical. This is also true with High and Moderately High acidic wines."
   ]
  },
  {
   "cell_type": "markdown",
   "metadata": {},
   "source": [
    "### Do wines with higher alcoholic content receive better ratings?"
   ]
  },
  {
   "cell_type": "code",
   "execution_count": 90,
   "metadata": {},
   "outputs": [],
   "source": [
    "med_alc = wine_df['alcohol'].median()\n",
    "\n",
    "low_alcohol = wine_df[wine_df['alcohol'] < med_alc]\n",
    "\n",
    "# select samples with alcohol content greater than or equal to the median\n",
    "high_alcohol = wine_df[wine_df['alcohol'] >= med_alc]\n",
    "\n",
    "mean_quality_low = low_alcohol['quality'].mean()\n",
    "mean_quality_high = high_alcohol['quality'].mean()"
   ]
  },
  {
   "cell_type": "code",
   "execution_count": 94,
   "metadata": {},
   "outputs": [
    {
     "name": "stdout",
     "output_type": "stream",
     "text": [
      "Average Quality\n",
      "High Alcohol: 6.146084337349397\n",
      "Low Alcohol: 5.475920679886686\n"
     ]
    },
    {
     "data": {
      "image/png": "[encoded data removed]",
      "text/plain": [
       "<Figure size 432x288 with 1 Axes>"
      ]
     },
     "metadata": {
      "needs_background": "light"
     },
     "output_type": "display_data"
    }
   ],
   "source": [
    "locations = [1,2]\n",
    "heights = [mean_quality_low, mean_quality_high]\n",
    "labels = ['Low', 'High']\n",
    "plt.bar(locations, heights, tick_label=labels);\n",
    "plt.title('Average Quality Ratings by Alcohol Content');\n",
    "plt.xlabel('Alcohol Content');\n",
    "plt.ylabel('Average Quality Rating');\n",
    "\n",
    "print(\n",
    "    \"Average Quality\",\n",
    "    \n",
    "    \"High Alcohol: {}\".format(high_alcohol['quality'].mean()),\n",
    "    \n",
    "    \"Low Alcohol: {}\".format(low_alcohol['quality'].mean()),\n",
    "    \n",
    "    sep='\\n')"
   ]
  },
  {
   "cell_type": "markdown",
   "metadata": {},
   "source": [
    "### Do sweeter wines receive better ratings?"
   ]
  },
  {
   "cell_type": "code",
   "execution_count": 121,
   "metadata": {},
   "outputs": [],
   "source": [
    "med_sugar = wine_df['residual sugar'].median()\n",
    "\n",
    "low_sugar = wine_df[wine_df['residual sugar'] < med_sugar]\n",
    "\n",
    "high_sugar = wine_df[wine_df['residual sugar'] >= med_sugar]\n",
    "\n",
    "mean_quality_low = low_sugar['quality'].mean()\n",
    "mean_quality_high = high_sugar['quality'].mean()"
   ]
  },
  {
   "cell_type": "code",
   "execution_count": 124,
   "metadata": {},
   "outputs": [
    {
     "name": "stdout",
     "output_type": "stream",
     "text": [
      "Average Quality\n",
      "High Sugar: 5.82782874617737\n",
      "Low Sugar: 5.808800743724822\n"
     ]
    },
    {
     "data": {
      "image/png": "[encoded data removed]",
      "text/plain": [
       "<Figure size 432x288 with 1 Axes>"
      ]
     },
     "metadata": {
      "needs_background": "light"
     },
     "output_type": "display_data"
    }
   ],
   "source": [
    "locations = [1, 2]\n",
    "heights = [mean_quality_low, mean_quality_high]\n",
    "labels = ['Low', 'High']\n",
    "plt.bar(locations, heights, tick_label=labels)\n",
    "plt.title('Average Quality Ratings by Residual Sugar')\n",
    "plt.xlabel('Residual Sugar Content')\n",
    "plt.ylabel('Average Quality Rating');\n",
    "\n",
    "print(\n",
    "    \"Average Quality\",\n",
    "    \n",
    "    \"High Sugar: {}\".format(high_sugar['quality'].mean()),\n",
    "    \n",
    "    \"Low Sugar: {}\".format(low_sugar['quality'].mean()),\n",
    "    \n",
    "    sep='\\n')"
   ]
  },
  {
   "cell_type": "code",
   "execution_count": null,
   "metadata": {},
   "outputs": [],
   "source": []
  }
 ],
 "metadata": {
  "kernelspec": {
   "display_name": "Python 3",
   "language": "python",
   "name": "python3"
  },
  "language_info": {
   "codemirror_mode": {
    "name": "ipython",
    "version": 3
   },
   "file_extension": ".py",
   "mimetype": "text/x-python",
   "name": "python",
   "nbconvert_exporter": "python",
   "pygments_lexer": "ipython3",
   "version": "3.7.0"
  }
 },
 "nbformat": 4,
 "nbformat_minor": 2
}
